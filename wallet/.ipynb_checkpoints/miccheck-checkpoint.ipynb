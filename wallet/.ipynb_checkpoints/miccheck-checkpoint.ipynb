{
 "cells": [
  {
   "cell_type": "code",
   "execution_count": 2,
   "metadata": {},
   "outputs": [
    {
     "ename": "ImportError",
     "evalue": "cannot import name 'Bit' from 'bit' (/opt/anaconda3/envs/ethereum/lib/python3.7/site-packages/bit/__init__.py)",
     "output_type": "error",
     "traceback": [
      "\u001b[0;31m---------------------------------------------------------------------------\u001b[0m",
      "\u001b[0;31mImportError\u001b[0m                               Traceback (most recent call last)",
      "\u001b[0;32m<ipython-input-2-96d335d6bcf0>\u001b[0m in \u001b[0;36m<module>\u001b[0;34m\u001b[0m\n\u001b[1;32m      6\u001b[0m \u001b[0;32mfrom\u001b[0m \u001b[0mpprint\u001b[0m \u001b[0;32mimport\u001b[0m \u001b[0mpprint\u001b[0m\u001b[0;34m\u001b[0m\u001b[0;34m\u001b[0m\u001b[0m\n\u001b[1;32m      7\u001b[0m \u001b[0;32mfrom\u001b[0m \u001b[0mweb3\u001b[0m \u001b[0;32mimport\u001b[0m \u001b[0mWeb3\u001b[0m\u001b[0;34m\u001b[0m\u001b[0;34m\u001b[0m\u001b[0m\n\u001b[0;32m----> 8\u001b[0;31m \u001b[0;32mfrom\u001b[0m \u001b[0mbit\u001b[0m \u001b[0;32mimport\u001b[0m \u001b[0mBit\u001b[0m\u001b[0;34m\u001b[0m\u001b[0;34m\u001b[0m\u001b[0m\n\u001b[0m\u001b[1;32m      9\u001b[0m \u001b[0;32mfrom\u001b[0m \u001b[0mweb3\u001b[0m\u001b[0;34m.\u001b[0m\u001b[0mmiddleware\u001b[0m \u001b[0;32mimport\u001b[0m \u001b[0mgeth_poa_middleware\u001b[0m\u001b[0;34m\u001b[0m\u001b[0;34m\u001b[0m\u001b[0m\n\u001b[1;32m     10\u001b[0m \u001b[0;32mfrom\u001b[0m \u001b[0meth_account\u001b[0m \u001b[0;32mimport\u001b[0m \u001b[0mAccount\u001b[0m\u001b[0;34m\u001b[0m\u001b[0;34m\u001b[0m\u001b[0m\n",
      "\u001b[0;31mImportError\u001b[0m: cannot import name 'Bit' from 'bit' (/opt/anaconda3/envs/ethereum/lib/python3.7/site-packages/bit/__init__.py)"
     ]
    }
   ],
   "source": [
    "from constants import *\n",
    "from dotenv import load_dotenv\n",
    "import os\n",
    "import subprocess\n",
    "import json\n",
    "from pprint import pprint\n",
    "from web3 import Web3\n",
    "from bit import wif_to_key\n",
    "from web3.middleware import geth_poa_middleware\n",
    "from eth_account import Account\n",
    "\n",
    "w3 = Web3(Web3.HTTPProvider(\"http://127.0.0.1:8545\"))\n",
    "w3.middleware_onion.inject(geth_poa_middleware, layer=0)\n",
    "\n",
    "#mnemonic = \"ramp stomach hotel sun craft traffic huge cage auction inspire narrow produce shock boss surge\"\n",
    "\n",
    "mnemonic = os.getenv('MNEMONIC', 'ramp stomach hotel sun craft traffic huge cage auction inspire narrow produce shock boss surge')\n",
    "\n",
    "def derive_wallets(coin, Numderive):\n",
    "    command = f'./derive -g --mnemonic=\"{mnemonic}\" --coin={coin} --numderive={Numderive} --cols=path,address,privkey,pubkey --format=json'\n",
    "    p = subprocess.Popen(command, stdout=subprocess.PIPE, shell=True)\n",
    "    output, err = p.communicate()\n",
    "    p_status = p.wait()\n",
    "    return json.loads(output)\n",
    "\n",
    "print(derive_wallets(BTC, 3))\n",
    "coins = {ETH: derive_wallets(ETH, 3), BTCTEST: derive_wallets(BTCTEST, 3)}\n",
    "pprint(coins)\n",
    "\n",
    "def priv_key_to_account(coin, priv_key):\n",
    "    if coin == ETH:\n",
    "        return Account.privateKeyToAccount(priv_key)\n",
    "    if coin ==BTCTEST:\n",
    "        return PrivateKeyTestnet(priv_key)\n",
    "\n",
    "def create_tx(coin, account, address_to, amount):\n",
    "    if coin ==ETH:\n",
    "        gasEstimate = w3.eth.estimateGas(\n",
    "            {\"from\": account,\n",
    "             \"to\": address_to,\n",
    "             \"value\": amount}\n",
    "        )\n",
    "        return {\n",
    "        'from': account.address,\n",
    "        'to': address_to,     \n",
    "        'value': amount, \n",
    "        'gas': w3.eth.gasPrice, \n",
    "        'gasPrice': gasEstimate, \n",
    "        'nonce': w3.eth.getTransactionCount(account.address),\n",
    "        'chainID': 2424}\n",
    "    if coin ==BTCTEST:\n",
    "        return PrivateKeyTestnet.prepare_transaction(account.address, [(to, amount, BTC)])\n",
    "\n",
    "def send_tx(coin, account, to, amount):\n",
    "    if coin ==ETH:\n",
    "        raw_tx=create_tx(coin, account, to, amount)\n",
    "        signed= account.signTransaction(raw_tx)\n",
    "        return w3.eth.sendRawTransaction(signed.rawTransaction)\n",
    "    if coin ==BTCTEST:\n",
    "        raw_tx=create_tx(coin, account, to, amount)\n",
    "        signed= account.sign_transaction(raw_tx)\n",
    "        return NetworkAPI.broadcast_tx_testnet(signed)"
   ]
  },
  {
   "cell_type": "code",
   "execution_count": null,
   "metadata": {},
   "outputs": [],
   "source": []
  }
 ],
 "metadata": {
  "kernelspec": {
   "display_name": "Python [conda env:ethereum]",
   "language": "python",
   "name": "conda-env-ethereum-py"
  },
  "language_info": {
   "codemirror_mode": {
    "name": "ipython",
    "version": 3
   },
   "file_extension": ".py",
   "mimetype": "text/x-python",
   "name": "python",
   "nbconvert_exporter": "python",
   "pygments_lexer": "ipython3",
   "version": "3.7.9"
  }
 },
 "nbformat": 4,
 "nbformat_minor": 4
}
